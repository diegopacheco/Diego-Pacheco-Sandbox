{
 "cells": [
  {
   "cell_type": "code",
   "execution_count": 2,
   "metadata": {},
   "outputs": [
    {
     "name": "stdout",
     "output_type": "stream",
     "text": [
      "720\n",
      "120\n",
      "24\n"
     ]
    },
    {
     "data": {
      "text/plain": [
       "3 <nil>"
      ]
     },
     "execution_count": 2,
     "metadata": {},
     "output_type": "execute_result"
    }
   ],
   "source": [
    "import \"fmt\"\n",
    "\n",
    "func fact(n int) int {\n",
    "    if n == 0 {\n",
    "        return 1\n",
    "    }\n",
    "    return n * fact(n-1)\n",
    "}\n",
    "\n",
    "fmt.Println(fact(6))\n",
    "fmt.Println(fact(5))\n",
    "fmt.Println(fact(4))"
   ]
  }
 ],
 "metadata": {
  "kernelspec": {
   "display_name": "Go",
   "language": "go",
   "name": "gophernotes"
  },
  "language_info": {
   "codemirror_mode": "",
   "file_extension": ".go",
   "mimetype": "",
   "name": "go",
   "nbconvert_exporter": "",
   "pygments_lexer": "",
   "version": "go1.15.3"
  }
 },
 "nbformat": 4,
 "nbformat_minor": 4
}
