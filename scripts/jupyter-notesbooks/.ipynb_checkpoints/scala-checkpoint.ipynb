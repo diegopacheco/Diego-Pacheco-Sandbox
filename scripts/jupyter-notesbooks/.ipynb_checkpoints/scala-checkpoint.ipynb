{
 "cells": [
  {
   "cell_type": "code",
   "execution_count": 3,
   "metadata": {},
   "outputs": [
    {
     "name": "stdout",
     "output_type": "stream",
     "text": [
      "red has code: 16711680\n"
     ]
    },
    {
     "data": {
      "text/plain": [
       "\u001b[36mcolors\u001b[39m: \u001b[32mMap\u001b[39m[\u001b[32mString\u001b[39m, \u001b[32mInt\u001b[39m] = \u001b[33mHashMap\u001b[39m(\n",
       "  \u001b[32m\"orange\"\u001b[39m -> \u001b[32m16744512\u001b[39m,\n",
       "  \u001b[32m\"black\"\u001b[39m -> \u001b[32m0\u001b[39m,\n",
       "  \u001b[32m\"brown\"\u001b[39m -> \u001b[32m8404992\u001b[39m,\n",
       "  \u001b[32m\"turquoise\"\u001b[39m -> \u001b[32m65535\u001b[39m,\n",
       "  \u001b[32m\"red\"\u001b[39m -> \u001b[32m16711680\u001b[39m\n",
       ")\n",
       "\u001b[36margs\u001b[39m: \u001b[32mArray\u001b[39m[\u001b[32mString\u001b[39m] = \u001b[33mArray\u001b[39m(\u001b[32m\"red\"\u001b[39m)"
      ]
     },
     "execution_count": 3,
     "metadata": {},
     "output_type": "execute_result"
    }
   ],
   "source": [
    " val colors = Map(\"red\" -> 0xFF0000,\n",
    "                   \"turquoise\" -> 0x00FFFF,\n",
    "                   \"black\" -> 0x000000,\n",
    "                   \"orange\" -> 0xFF8040,\n",
    "                   \"brown\" -> 0x804000)\n",
    "  \n",
    "  val args = Array(\"red\")\n",
    "                     \n",
    "  for (name <- args) println(\n",
    "      colors.get(name) match {\n",
    "        case Some(code) =>\n",
    "          name + \" has code: \" + code\n",
    "        case None =>\n",
    "          \"Unknown color: \" + name\n",
    "      }\n",
    "    )                   "
   ]
  }
 ],
 "metadata": {
  "kernelspec": {
   "display_name": "Scala",
   "language": "scala",
   "name": "scala"
  },
  "language_info": {
   "codemirror_mode": "text/x-scala",
   "file_extension": ".sc",
   "mimetype": "text/x-scala",
   "name": "scala",
   "nbconvert_exporter": "script",
   "version": "2.13.4"
  }
 },
 "nbformat": 4,
 "nbformat_minor": 4
}
