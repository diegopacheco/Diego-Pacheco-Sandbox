{
 "cells": [
  {
   "cell_type": "code",
   "execution_count": 6,
   "metadata": {},
   "outputs": [
    {
     "name": "stdout",
     "output_type": "stream",
     "text": [
      "1 - {+1-888-123456=Person(name=John, city=Boston, phone=+1-888-123456), +49-777-789123=Person(name=Sarah, city=Munich, phone=+49-777-789123), +7-999-456789=Person(name=Svyatoslav, city=Saint-Petersburg, phone=+7-999-456789), +7-999-123456=Person(name=Vasilisa, city=Saint-Petersburg, phone=+7-999-123456)}\n",
      "2 - {+1-888-123456=Boston, +49-777-789123=Munich, +7-999-456789=Saint-Petersburg, +7-999-123456=Saint-Petersburg}\n",
      "3 - {Boston=[John], Munich=[Sarah], Saint-Petersburg=[Svyatoslav, Vasilisa]}\n",
      "4 - {Boston=John, Munich=Sarah, Saint-Petersburg=Vasilisa}\n"
     ]
    }
   ],
   "source": [
    "data class Person(val name: String, val city: String, val phone: String) \n",
    "\n",
    "val people = listOf(                                                     \n",
    "    Person(\"John\", \"Boston\", \"+1-888-123456\"),\n",
    "    Person(\"Sarah\", \"Munich\", \"+49-777-789123\"),\n",
    "    Person(\"Svyatoslav\", \"Saint-Petersburg\", \"+7-999-456789\"),\n",
    "    Person(\"Vasilisa\", \"Saint-Petersburg\", \"+7-999-123456\"))\n",
    "\n",
    "val phoneBook = people.associateBy { it.phone }                          \n",
    "val cityBook = people.associateBy(Person::phone, Person::city)           \n",
    "val peopleCities = people.groupBy(Person::city, Person::name)            \n",
    "val lastPersonCity = people.associateBy(Person::city, Person::name)      \n",
    "\n",
    "println(\"1 - \" + phoneBook)\n",
    "println(\"2 - \" + cityBook)\n",
    "println(\"3 - \" + peopleCities)\n",
    "println(\"4 - \" + lastPersonCity)"
   ]
  }
 ],
 "metadata": {
  "kernelspec": {
   "display_name": "Kotlin",
   "language": "kotlin",
   "name": "kotlin"
  },
  "language_info": {
   "codemirror_mode": "text/x-kotlin",
   "file_extension": ".kt",
   "mimetype": "text/x-kotlin",
   "name": "kotlin",
   "nbconvert_exporter": "",
   "pygments_lexer": "kotlin",
   "version": "1.4.32"
  }
 },
 "nbformat": 4,
 "nbformat_minor": 4
}
