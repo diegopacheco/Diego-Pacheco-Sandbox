{
 "cells": [
  {
   "cell_type": "markdown",
   "metadata": {},
   "source": [
    "## This is a java notebook\n",
    "\n",
    "We can create Code and run it - no main method required.\n"
   ]
  },
  {
   "cell_type": "code",
   "execution_count": 1,
   "metadata": {},
   "outputs": [
    {
     "name": "stdout",
     "output_type": "stream",
     "text": [
      "works! Cordinate:15:30\n"
     ]
    }
   ],
   "source": [
    "class Cordinate{\n",
    "    public Integer x,y;\n",
    "    \n",
    "    public Cordinate(){}\n",
    "    \n",
    "    public Cordinate(Integer x, Integer y){\n",
    "        this.y = y;\n",
    "        this.x = x;\n",
    "    }\n",
    "    \n",
    "    public String toString(){\n",
    "        return x + \":\" + y;\n",
    "    }\n",
    "}\n",
    "\n",
    "Cordinate c = new Cordinate(15,30);\n",
    "System.out.println(\"works! Cordinate:\" + c);\n"
   ]
  }
 ],
 "metadata": {
  "kernelspec": {
   "display_name": "Java",
   "language": "java",
   "name": "java"
  },
  "language_info": {
   "codemirror_mode": "java",
   "file_extension": ".jshell",
   "mimetype": "text/x-java-source",
   "name": "Java",
   "pygments_lexer": "java",
   "version": "14.0.1+7"
  }
 },
 "nbformat": 4,
 "nbformat_minor": 4
}
